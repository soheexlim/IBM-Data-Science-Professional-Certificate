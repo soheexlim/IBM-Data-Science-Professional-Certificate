{
 "cells": [
  {
   "cell_type": "markdown",
   "id": "cc963d06-fb03-48c1-ab6e-ab51b07ac5ac",
   "metadata": {},
   "source": [
    "# Data Science Tools and Ecosystem"
   ]
  },
  {
   "cell_type": "markdown",
   "id": "f1fafa8c-e50a-4cca-8c6b-ce5d580b5890",
   "metadata": {},
   "source": [
    "## Author\n",
    "Sophie Lim"
   ]
  },
  {
   "cell_type": "markdown",
   "id": "0fee39cc-86e8-459c-8065-3acbd780db65",
   "metadata": {},
   "source": [
    "In this notebook, Data Science Tools and Ecosystem are summarized."
   ]
  },
  {
   "cell_type": "markdown",
   "id": "95ea41cd-4ce2-49a5-a953-9cccbbfcb294",
   "metadata": {},
   "source": [
    "Objectives:\n",
    "- List popular languages for Data Science\n",
    "- List commonly used libraries\n",
    "- Create a table\n",
    "- Create different levels of heading\n",
    "- Evaluate Python arithmetic expressions"
   ]
  },
  {
   "cell_type": "markdown",
   "id": "0909e199-0615-491a-a649-cb81495ac06d",
   "metadata": {},
   "source": [
    "Some of the popular languages that Data Scientists use are:\n",
    "1. Python\n",
    "2. R\n",
    "3. SQL\n",
    "4. Scala\n",
    "5. Julia\n",
    "6. JavaScript"
   ]
  },
  {
   "cell_type": "markdown",
   "id": "caca2844-0a76-4f51-85bf-f86f398a9019",
   "metadata": {},
   "source": [
    "Some of the commonly used libraries used by Data Scientists include:\n",
    "1. TensorFlow\n",
    "2. ggplot\n",
    "3. Pandas\n",
    "4. Scikit-learn\n",
    "5. Matplotlib\n",
    "6. NumPy"
   ]
  },
  {
   "cell_type": "markdown",
   "id": "c7673fde-88d3-4b0c-a976-6d36d9c39acd",
   "metadata": {},
   "source": [
    "| Data Science Tools| \n",
    "| -------------------| \n",
    "| RStudio |\n",
    "| Spyder |\n",
    "| Jupyter Notebook|"
   ]
  },
  {
   "cell_type": "markdown",
   "id": "1217e6bc-4a9c-499c-b31b-95f1fe9256ee",
   "metadata": {},
   "source": [
    "### Below are a few examples of evaluating arithmetic expressions in Python"
   ]
  },
  {
   "cell_type": "code",
   "execution_count": 12,
   "id": "f2a9139b-5d80-46ce-8f60-80c1a7d15aa5",
   "metadata": {},
   "outputs": [
    {
     "data": {
      "text/plain": [
       "17"
      ]
     },
     "execution_count": 12,
     "metadata": {},
     "output_type": "execute_result"
    }
   ],
   "source": [
    "# This a simple arithmetic expression to mutiply then add integers\n",
    "(3*4)+5"
   ]
  },
  {
   "cell_type": "code",
   "execution_count": 16,
   "id": "649a79a1-90d8-4b8a-b149-0bab03b35198",
   "metadata": {},
   "outputs": [
    {
     "data": {
      "text/plain": [
       "3.3333333333333335"
      ]
     },
     "execution_count": 16,
     "metadata": {},
     "output_type": "execute_result"
    }
   ],
   "source": [
    "# This will convert 200 minutes to hours by diving by 60\n",
    "min_to_hrs = 200 / 60\n",
    "min_to_hrs"
   ]
  },
  {
   "cell_type": "code",
   "execution_count": null,
   "id": "6ab7afa3-8d24-47fc-9881-820f33a5e0f5",
   "metadata": {},
   "outputs": [],
   "source": []
  }
 ],
 "metadata": {
  "kernelspec": {
   "display_name": "Python 3 (ipykernel)",
   "language": "python",
   "name": "python3"
  },
  "language_info": {
   "codemirror_mode": {
    "name": "ipython",
    "version": 3
   },
   "file_extension": ".py",
   "mimetype": "text/x-python",
   "name": "python",
   "nbconvert_exporter": "python",
   "pygments_lexer": "ipython3",
   "version": "3.12.4"
  }
 },
 "nbformat": 4,
 "nbformat_minor": 5
}
